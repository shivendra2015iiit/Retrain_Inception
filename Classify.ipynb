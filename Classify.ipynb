{
 "cells": [
  {
   "cell_type": "code",
   "execution_count": 1,
   "metadata": {
    "collapsed": false
   },
   "outputs": [
    {
     "name": "stderr",
     "output_type": "stream",
     "text": [
      "/home/intern_eyecare/anaconda3/envs/keras/lib/python3.6/site-packages/h5py/__init__.py:36: FutureWarning: Conversion of the second argument of issubdtype from `float` to `np.floating` is deprecated. In future, it will be treated as `np.float64 == np.dtype(float).type`.\n",
      "  from ._conv import register_converters as _register_converters\n"
     ]
    }
   ],
   "source": [
    "# needed to install jinja2 openpyxl pandas tensorflow numpy\n",
    "\n",
    "import pandas as pd\n",
    "import numpy as np\n",
    "import tensorflow as tf\n",
    "import openpyxl\n",
    "from openpyxl import load_workbook\n",
    "from tqdm import tqdm\n",
    "\n",
    "def main():\n",
    "    \n",
    "\n",
    "    # Unpersists graph from file\n",
    "    with tf.gfile.FastGFile(\"output\", 'rb') as f:\n",
    "        graph_def = tf.GraphDef()\n",
    "        graph_def.ParseFromString(f.read())\n",
    "        _ = tf.import_graph_def(graph_def, name='')\n",
    "    \n",
    "    readFrom=0\n",
    "    readTo=12\n",
    "    \n",
    "    #workbook = pd.ExcelFile(\"Copy_trial.xlsx\")                ############################HT#################\n",
    "    workbook = pd.ExcelFile(\"test.xlsx\")\n",
    "    print(\"workbook loaded\")\n",
    "\n",
    "    df=readRange(readFrom,readTo,workbook)\n",
    "\n",
    "    Run(readFrom,readTo,df)\n",
    "\n"
   ]
  },
  {
   "cell_type": "code",
   "execution_count": 2,
   "metadata": {
    "collapsed": false
   },
   "outputs": [],
   "source": [
    "def readRange(fromRow,toRow,workbook):\n",
    "    rows = workbook.book.sheet_by_index(0).nrows\n",
    "    # subtract the number of rows to read from the total number of rows (and another 1 for the header)\n",
    "    workbook_dataframe = pd.read_excel(workbook, skiprows = fromRow,skip_footer = rows-toRow-1)\n",
    "    return workbook_dataframe"
   ]
  },
  {
   "cell_type": "code",
   "execution_count": 3,
   "metadata": {
    "collapsed": true
   },
   "outputs": [],
   "source": [
    "import re\n",
    "def findit(string):\n",
    "    b=re.search(\".*\\.jpg\",string,re.IGNORECASE)\n",
    "    c=re.search(\".*\\.jpeg\",string,re.IGNORECASE)\n",
    "    if b or c:\n",
    "        return False\n",
    "    else:\n",
    "        return True"
   ]
  },
  {
   "cell_type": "code",
   "execution_count": 4,
   "metadata": {
    "collapsed": false,
    "scrolled": true
   },
   "outputs": [],
   "source": [
    "def addressConv(datarow):\n",
    "    #pre written shared drive address\n",
    "    address =\"/\"                              ############################HT#################\n",
    "    #address=\"\\\\\\\\bosch.com\\\\DfsRB\\\\DfsIN\\\\LOC\\\\Kor\\\\BUD\\\\NBT\\\\EyeCare\\\\\"\n",
    "    # or forward slash addressing\n",
    "    \n",
    "    #address=\"//bosch.com/DfsRB/DfsIN/LOC/Kor/BUD/NBT/EyeCare/\"\n",
    "    i=0                                        ############################HT i=1#################\n",
    "    while True:\n",
    "        if not findit(datarow[i]):\n",
    "            address = address+str(datarow[i])\n",
    "            break\n",
    "        #address = address+str(datarow[i])+\"\\\\\"\n",
    "        address = address + str(datarow[i])+\"/\"\n",
    "        i=i+1\n",
    "    return address"
   ]
  },
  {
   "cell_type": "code",
   "execution_count": 5,
   "metadata": {
    "collapsed": false
   },
   "outputs": [],
   "source": [
    "############################### Inception #################################################\n",
    "def classifier(address):\n",
    "    # Read in the image_data\n",
    "    image_data = tf.gfile.FastGFile(address, 'rb').read()\n",
    "\n",
    "    # Loads label file, strips off carriage return\n",
    "    label_lines = [line.rstrip() for line\n",
    "                   in tf.gfile.GFile(\"./labels.txt\")]\n",
    "\n",
    "    \n",
    "    with tf.Session() as sess:\n",
    "        # Feed the image_data as input to the graph and get first prediction\n",
    "        softmax_tensor = sess.graph.get_tensor_by_name('final_result:0')\n",
    "\n",
    "        predictions = sess.run(softmax_tensor, \\\n",
    "                 {'DecodeJpeg/contents:0': image_data})\n",
    "\n",
    "        # Sort to show labels of first prediction in order of confidence\n",
    "        top_k = predictions[0].argsort()[-len(predictions[0]):][::-1]\n",
    "            \n",
    "        if(predictions[0][0]>predictions[0][1]):\n",
    "            return False\n",
    "        else:\n",
    "            return True"
   ]
  },
  {
   "cell_type": "code",
   "execution_count": 14,
   "metadata": {
    "collapsed": false
   },
   "outputs": [],
   "source": [
    "\n",
    "\n",
    "def Run(start,end,df):\n",
    "    book = load_workbook(\"./outputExcel/outfile.xlsx\")\n",
    "    writer = pd.ExcelWriter(\"./outputExcel/outfile.xlsx\", engine='openpyxl') # Destination\n",
    "    writer.book = book\n",
    "    styled = None\n",
    "    framelength=int(len(df.index))\n",
    "    \n",
    "    for framelength in tqdm(range(framelength,0,-1)):\n",
    "        nextIndex=len(df.index)-framelength\n",
    "        oneframe =df.iloc[nextIndex]\n",
    "        address=addressConv(oneframe)\n",
    "        oneframe=pd.DataFrame(oneframe)\n",
    "        oneframe = oneframe.T\n",
    "         #classifing using classifier trained on inception\n",
    "        if classifier(address):\n",
    "            \n",
    "            styled = (oneframe.style.applymap(lambda v: 'background-color: %s' % 'yellow' if v!= None else ''))\n",
    "            styled.to_excel(writer,\"Sheet \"+str(start)+\" - \"+str(end)+\"  \",startrow=nextIndex ,index=False,header=None)\n",
    "             #append_df_to_excel(writer,book, styled, header=None, index=False)\n",
    "           \n",
    "        else:\n",
    "            #append_df_to_excel(writer,book, styled, header=None, index=False)\n",
    "            oneframe.to_excel(writer,\"Sheet \"+str(start)+\" - \"+str(end)+\"  \", startrow=nextIndex, index=False,header=None)\n",
    "        writer.save()    \n",
    "    \n",
    "    print(\"Done saving\")\n",
    "#"
   ]
  },
  {
   "cell_type": "code",
   "execution_count": 15,
   "metadata": {
    "collapsed": false
   },
   "outputs": [
    {
     "name": "stderr",
     "output_type": "stream",
     "text": [
      "\r",
      "  0%|          | 0/12 [00:00<?, ?it/s]"
     ]
    },
    {
     "name": "stdout",
     "output_type": "stream",
     "text": [
      "workbook loaded\n"
     ]
    },
    {
     "name": "stderr",
     "output_type": "stream",
     "text": [
      "100%|██████████| 12/12 [00:15<00:00,  1.30s/it]"
     ]
    },
    {
     "name": "stdout",
     "output_type": "stream",
     "text": [
      "Done saving\n"
     ]
    },
    {
     "name": "stderr",
     "output_type": "stream",
     "text": [
      "\n"
     ]
    }
   ],
   "source": [
    "if __name__==\"__main__\":\n",
    "    main()"
   ]
  },
  {
   "cell_type": "code",
   "execution_count": null,
   "metadata": {
    "collapsed": true
   },
   "outputs": [],
   "source": []
  }
 ],
 "metadata": {
  "anaconda-cloud": {},
  "kernelspec": {
   "display_name": "Python [keras]",
   "language": "python",
   "name": "Python [keras]"
  },
  "language_info": {
   "codemirror_mode": {
    "name": "ipython",
    "version": 3
   },
   "file_extension": ".py",
   "mimetype": "text/x-python",
   "name": "python",
   "nbconvert_exporter": "python",
   "pygments_lexer": "ipython3",
   "version": "3.6.4"
  }
 },
 "nbformat": 4,
 "nbformat_minor": 0
}
